{
 "cells": [
  {
   "cell_type": "code",
   "execution_count": 30,
   "id": "cb533a26",
   "metadata": {},
   "outputs": [
    {
     "name": "stdout",
     "output_type": "stream",
     "text": [
      "A sayisi = 10\n",
      "B sayisi = 3\n",
      "C sayisi = 2\n",
      "\n",
      "A x B = 30\n",
      "A + B + C = 15\n",
      "Bolme =  3.3333333333333335\n",
      "Bolme =  3\n",
      "Kuvvet =  8\n",
      "Karekok =  9.0\n",
      "Karekok =  8.0\n"
     ]
    }
   ],
   "source": [
    "a = 10\n",
    "b = 3\n",
    "c = 2\n",
    "print(\"A sayisi =\",a)\n",
    "print(\"B sayisi =\",b)\n",
    "print(\"C sayisi =\",c)\n",
    "\n",
    "print(\"\\nA x B =\",a*b)\n",
    "print(\"A + B + C =\",a+b+c)\n",
    "print(\"Bolme = \",a / b)\n",
    "print(\"Bolme = \",a // b) \n",
    "print(\"Kuvvet = \",c**b)\n",
    "print(\"Karekok = \",81 ** 0.5)\n",
    "print(\"Karekok = \",64 ** 0.5)"
   ]
  },
  {
   "cell_type": "code",
   "execution_count": 48,
   "id": "326cf3c3",
   "metadata": {},
   "outputs": [
    {
     "name": "stdout",
     "output_type": "stream",
     "text": [
      "- Merhaba String\n",
      "- M e\n",
      "- g n\n",
      "- Merhaba\n",
      "- MraaSrn\n",
      "- 14\n",
      "- Merhaba StringTarik\n"
     ]
    }
   ],
   "source": [
    "a = \"Merhaba String\"\n",
    "b = \"Tarik\"\n",
    "\n",
    "print(\"-\",a)\n",
    "print(\"-\",a[0],a[1])\n",
    "print(\"-\",a[-1],a[-2])\n",
    "print(\"-\",a[0:7:])\n",
    "print(\"-\",a[0::2])\n",
    "print(\"-\",len(a)) \n",
    "print(\"-\",a+b)\n"
   ]
  },
  {
   "cell_type": "code",
   "execution_count": 59,
   "id": "f04bef6d",
   "metadata": {},
   "outputs": [
    {
     "name": "stdout",
     "output_type": "stream",
     "text": [
      " 43.0\n",
      " 23\n",
      " 8\n"
     ]
    }
   ],
   "source": [
    "a = 43\n",
    "print(\"\",float(a))\n",
    "\n",
    "b = 23.4\n",
    "print(\"\",int(b))\n",
    "\n",
    "c = 13413413\n",
    "d = str(c)\n",
    "print(\"\",len(d))\n",
    "\n",
    "\n",
    "\n",
    "\n"
   ]
  },
  {
   "cell_type": "code",
   "execution_count": 73,
   "id": "991c7999",
   "metadata": {},
   "outputs": [
    {
     "name": "stdout",
     "output_type": "stream",
     "text": [
      " <class 'float'>\n",
      "TARIK\n",
      "T.A.R.I.K\n",
      "3 + 4 = 7\n",
      "tarik Sivas 19\n"
     ]
    }
   ],
   "source": [
    "a =type(3.43)\n",
    "print(\"\",a)\n",
    "\n",
    "print(\"TARIK\")\n",
    "print(*\"TARIK\",sep=\".\")\n",
    "\n",
    "b=3\n",
    "c=4\n",
    "print(\"{} + {} = {}\".format(b,c,b+c))\n",
    "print(\"{0} {2} {1}\".format(\"tarik\",19,\"Sivas\"))\n",
    "\n"
   ]
  },
  {
   "cell_type": "code",
   "execution_count": 97,
   "id": "5972e60a",
   "metadata": {},
   "outputs": [
    {
     "name": "stdout",
     "output_type": "stream",
     "text": [
      " Tarik\n",
      " 7\n",
      " [2, 5, 'Tarik', 2004]\n",
      " [2004, 1, 2]\n",
      " [7, 2, 3, 4]\n",
      " [2, 4, 5, 1, 'Tarik', 'Rabia', 2004, 'Sila']\n",
      " [2, 4, 5, 1, 'Tarik', 'Rabia', 2004]\n",
      " [2, 5, 1, 'Tarik', 'Rabia', 2004]\n",
      " [1, 2, 5, 7, 34, 98]\n",
      " [98, 34, 7, 5, 2, 1]\n",
      " ['Ayse', 'Enes', 'Tarik']\n",
      " 2\n"
     ]
    }
   ],
   "source": [
    "liste1= [2,4,5,1,\"Tarik\",\"Rabia\",2004]\n",
    "print(\"\",liste1[4])\n",
    "print(\"\",len(liste1))\n",
    "print(\"\",liste1[0::2])\n",
    "print(\"\",liste1[-1::-3])\n",
    "\n",
    "liste2=[1,2,3,4]\n",
    "liste2[0]=7\n",
    "print(\"\",liste2)\n",
    "\n",
    "liste1.append(\"Sila\")\n",
    "print(\"\",liste1)\n",
    "\n",
    "liste1.pop()\n",
    "print(\"\",liste1)\n",
    "\n",
    "liste1.pop(1)\n",
    "print(\"\",liste1)\n",
    "\n",
    "liste3 = [1,5,7,2,98,34]\n",
    "liste3.sort()\n",
    "print(\"\",liste3)\n",
    "liste3.sort(reverse=True)\n",
    "print(\"\",liste3)\n",
    "\n",
    "liste4=[\"Tarik\",\"Ayse\",\"Enes\"]\n",
    "liste4.sort()\n",
    "print(\"\",liste4)\n",
    "\n",
    "liste5= [[1,2],[3,4]]\n",
    "print(\"\",liste5[0][1])\n",
    "\n"
   ]
  },
  {
   "cell_type": "code",
   "execution_count": 106,
   "id": "27b1426e",
   "metadata": {},
   "outputs": [
    {
     "name": "stdout",
     "output_type": "stream",
     "text": [
      " <class 'tuple'>\n",
      " 5\n",
      " 1\n"
     ]
    },
    {
     "ename": "TypeError",
     "evalue": "'tuple' object does not support item assignment",
     "output_type": "error",
     "traceback": [
      "\u001b[1;31m---------------------------------------------------------------------------\u001b[0m",
      "\u001b[1;31mTypeError\u001b[0m                                 Traceback (most recent call last)",
      "Cell \u001b[1;32mIn[106], line 11\u001b[0m\n\u001b[0;32m      8\u001b[0m \u001b[39mprint\u001b[39m(\u001b[39m\"\u001b[39m\u001b[39m\"\u001b[39m,demet3\u001b[39m.\u001b[39mindex(\u001b[39m\"\u001b[39m\u001b[39mRabia\u001b[39m\u001b[39m\"\u001b[39m))\n\u001b[0;32m     10\u001b[0m demet4 \u001b[39m=\u001b[39m (\u001b[39m1\u001b[39m,\u001b[39m2\u001b[39m,\u001b[39m3\u001b[39m,\u001b[39m4\u001b[39m,\u001b[39m5\u001b[39m)\n\u001b[1;32m---> 11\u001b[0m demet[\u001b[39m1\u001b[39;49m] \u001b[39m=\u001b[39m \u001b[39m12\u001b[39m\n",
      "\u001b[1;31mTypeError\u001b[0m: 'tuple' object does not support item assignment"
     ]
    }
   ],
   "source": [
    "demet = (1,2,3,4,5,6,7)\n",
    "print(\"\",type(demet))\n",
    "\n",
    "demet2 = (1,1,1,1,1,2,2,3,3,3)\n",
    "print(\"\",demet2.count(1))\n",
    "\n",
    "demet3 = (\"Tarik\",\"Rabia\",\"Sila\")\n",
    "print(\"\",demet3.index(\"Rabia\"))\n",
    "\n",
    "demet4 = (1,2,3,4,5)\n",
    "demet[1] = 12\n",
    "\n",
    "\n"
   ]
  },
  {
   "cell_type": "code",
   "execution_count": 14,
   "id": "795286a9",
   "metadata": {},
   "outputs": [
    {
     "name": "stdout",
     "output_type": "stream",
     "text": [
      " Aldatilan\n",
      " CocukAdam\n",
      " 1\n",
      " 2\n",
      " 3\n",
      " dict_keys(['Tarik', 'Enes'])\n",
      " dict_values(['Aldatilan', 'CocukAdam'])\n",
      " dict_items([('Tarik', 'Aldatilan'), ('Enes', 'CocukAdam')])\n"
     ]
    }
   ],
   "source": [
    "sozluk1 = {\"Tarik\":\"Aldatilan\",\"Enes\":\"CocukAdam\"}\n",
    "\n",
    "print(\"\",sozluk1[\"Tarik\"])\n",
    "print(\"\",sozluk1[\"Enes\"])\n",
    "\n",
    "\n",
    "sozluk2 = {\"bir\":1,\"iki\":\"2\"}\n",
    "\n",
    "print(\"\",sozluk2[\"bir\"])\n",
    "print(\"\",sozluk2[\"iki\"])\n",
    "\n",
    "sozluk2[\"uc\"] = 3\n",
    "\n",
    "print(\"\",sozluk2[\"uc\"])\n",
    "\n",
    "\n",
    "print(\"\",sozluk1.keys())\n",
    "print(\"\",sozluk1.values())\n",
    "print(\"\",sozluk1.items())\n",
    "\n"
   ]
  },
  {
   "cell_type": "code",
   "execution_count": 1,
   "id": "25173efc",
   "metadata": {},
   "outputs": [
    {
     "name": "stdout",
     "output_type": "stream",
     "text": [
      "15\n"
     ]
    },
    {
     "data": {
      "text/plain": [
       "'15'"
      ]
     },
     "execution_count": 1,
     "metadata": {},
     "output_type": "execute_result"
    }
   ],
   "source": [
    "input()"
   ]
  },
  {
   "cell_type": "code",
   "execution_count": 2,
   "id": "cfe7a180",
   "metadata": {},
   "outputs": [
    {
     "name": "stdout",
     "output_type": "stream",
     "text": [
      "Lütfen bir sayi giriniz:14\n"
     ]
    },
    {
     "data": {
      "text/plain": [
       "'14'"
      ]
     },
     "execution_count": 2,
     "metadata": {},
     "output_type": "execute_result"
    }
   ],
   "source": [
    "input(\"Lütfen bir sayi giriniz:\")"
   ]
  },
  {
   "cell_type": "code",
   "execution_count": 2,
   "id": "6ddf1a75",
   "metadata": {},
   "outputs": [
    {
     "name": "stdout",
     "output_type": "stream",
     "text": [
      "Kullanicinin girdigi deger: 12\n"
     ]
    }
   ],
   "source": [
    "a = input(\"Lütfen bir sayi giriniz\")\n",
    "print(\"Kullanicinin girdigi deger:\",a)"
   ]
  },
  {
   "cell_type": "code",
   "execution_count": 6,
   "id": "c761c270",
   "metadata": {},
   "outputs": [
    {
     "name": "stdout",
     "output_type": "stream",
     "text": [
      "Carpimlari: 6\n"
     ]
    }
   ],
   "source": [
    "b = int(input(\"Birinci sayinizi giriniz:\"))\n",
    "c = int (input(\"Ikinci sayinizi giriniz:\"))\n",
    "\n",
    "print(\"Carpimlari:\",b*c)"
   ]
  }
 ],
 "metadata": {
  "kernelspec": {
   "display_name": "Python 3 (ipykernel)",
   "language": "python",
   "name": "python3"
  },
  "language_info": {
   "codemirror_mode": {
    "name": "ipython",
    "version": 3
   },
   "file_extension": ".py",
   "mimetype": "text/x-python",
   "name": "python",
   "nbconvert_exporter": "python",
   "pygments_lexer": "ipython3",
   "version": "3.9.13"
  }
 },
 "nbformat": 4,
 "nbformat_minor": 5
}
