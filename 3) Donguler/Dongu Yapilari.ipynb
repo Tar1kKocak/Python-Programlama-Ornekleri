{
 "cells": [
  {
   "cell_type": "code",
   "execution_count": 3,
   "id": "23e9268c",
   "metadata": {},
   "outputs": [
    {
     "data": {
      "text/plain": [
       "True"
      ]
     },
     "execution_count": 3,
     "metadata": {},
     "output_type": "execute_result"
    }
   ],
   "source": [
    "2 in [1,2,3,4]"
   ]
  },
  {
   "cell_type": "code",
   "execution_count": 2,
   "id": "66dbf35a",
   "metadata": {},
   "outputs": [
    {
     "data": {
      "text/plain": [
       "False"
      ]
     },
     "execution_count": 2,
     "metadata": {},
     "output_type": "execute_result"
    }
   ],
   "source": [
    "5 in [1,2,3,4]"
   ]
  },
  {
   "cell_type": "code",
   "execution_count": 4,
   "id": "9b9672ed",
   "metadata": {},
   "outputs": [
    {
     "data": {
      "text/plain": [
       "True"
      ]
     },
     "execution_count": 4,
     "metadata": {},
     "output_type": "execute_result"
    }
   ],
   "source": [
    "\"S\" in \"Sezin\""
   ]
  },
  {
   "cell_type": "code",
   "execution_count": 6,
   "id": "a40b10c9",
   "metadata": {},
   "outputs": [
    {
     "name": "stdout",
     "output_type": "stream",
     "text": [
      "Eleman =  1\n",
      "Eleman =  2\n",
      "Eleman =  3\n",
      "Eleman =  4\n",
      "Eleman =  5\n"
     ]
    }
   ],
   "source": [
    "liste = [1,2,3,4,5]\n",
    "for Eleman in liste :\n",
    "    print(\"Eleman = \",Eleman)"
   ]
  },
  {
   "cell_type": "code",
   "execution_count": 11,
   "id": "3c41a297",
   "metadata": {},
   "outputs": [
    {
     "name": "stdout",
     "output_type": "stream",
     "text": [
      "15\n"
     ]
    }
   ],
   "source": [
    "toplam = 0\n",
    "liste = [1,2,3,4,5]\n",
    "\n",
    "for eleman in liste :\n",
    "    toplam += eleman\n",
    "\n",
    "print(toplam)\n",
    "  "
   ]
  },
  {
   "cell_type": "code",
   "execution_count": 12,
   "id": "17dad189",
   "metadata": {},
   "outputs": [
    {
     "name": "stdout",
     "output_type": "stream",
     "text": [
      "Eleman Cift =  2\n",
      "Eleman Cift =  4\n"
     ]
    }
   ],
   "source": [
    "liste = [1,2,3,4,5]\n",
    "\n",
    "for eleman in liste :\n",
    "    if eleman % 2 == 0 :\n",
    "        print(\"Eleman Cift = \",eleman)"
   ]
  },
  {
   "cell_type": "code",
   "execution_count": 13,
   "id": "8631d57d",
   "metadata": {},
   "outputs": [
    {
     "name": "stdout",
     "output_type": "stream",
     "text": [
      "S\n",
      "e\n",
      "z\n",
      "i\n",
      "n\n"
     ]
    }
   ],
   "source": [
    "s = \"Sezin\"\n",
    "\n",
    "for karakter in s :\n",
    "    print (karakter)\n",
    "    "
   ]
  },
  {
   "cell_type": "code",
   "execution_count": 14,
   "id": "e2bb5d3d",
   "metadata": {},
   "outputs": [
    {
     "name": "stdout",
     "output_type": "stream",
     "text": [
      "(1, 2)\n",
      "(3, 4)\n",
      "(5, 6)\n"
     ]
    }
   ],
   "source": [
    "liste = [(1,2),(3,4),(5,6)]\n",
    "\n",
    "for eleman in liste:\n",
    "    print(eleman)"
   ]
  },
  {
   "cell_type": "code",
   "execution_count": 15,
   "id": "6aa0cb95",
   "metadata": {},
   "outputs": [
    {
     "name": "stdout",
     "output_type": "stream",
     "text": [
      "i : 1 j : 2\n",
      "i : 3 j : 4\n",
      "i : 5 j : 6\n"
     ]
    }
   ],
   "source": [
    "for (i,j) in liste :\n",
    "    print(\"i : {} j : {}\".format(i,j))"
   ]
  },
  {
   "cell_type": "code",
   "execution_count": 19,
   "id": "cbec8cec",
   "metadata": {},
   "outputs": [
    {
     "name": "stdout",
     "output_type": "stream",
     "text": [
      "1\n",
      "2\n",
      "3\n",
      "('bir', 1)\n",
      "('iki', 2)\n",
      "('uc', 3)\n"
     ]
    }
   ],
   "source": [
    "sozluk = {\"bir\":1,\"iki\":2,\"uc\":3}\n",
    "\n",
    "for eleman in sozluk.values():\n",
    "    print(eleman)\n",
    "\n",
    "for eleman in sozluk.items():\n",
    "    print(eleman)\n",
    "\n",
    "for eleman in sozluk.values():\n",
    "    print(eleman)"
   ]
  },
  {
   "cell_type": "code",
   "execution_count": 20,
   "id": "0689abd8",
   "metadata": {},
   "outputs": [
    {
     "name": "stdout",
     "output_type": "stream",
     "text": [
      "0\n",
      "1\n",
      "2\n",
      "3\n",
      "4\n",
      "5\n",
      "6\n",
      "7\n",
      "8\n",
      "9\n"
     ]
    }
   ],
   "source": [
    "i = 0\n",
    "while (i<10):\n",
    "    print(i)\n",
    "    i+=1"
   ]
  },
  {
   "cell_type": "code",
   "execution_count": 26,
   "id": "fda583e6",
   "metadata": {},
   "outputs": [
    {
     "name": "stdout",
     "output_type": "stream",
     "text": [
      "index : 0 deger : 1\n",
      "index : 1 deger : 2\n",
      "index : 2 deger : 3\n",
      "index : 3 deger : 4\n",
      "index : 4 deger : 5\n"
     ]
    }
   ],
   "source": [
    "liste = [1,2,3,4,5]\n",
    "i = 0\n",
    "while (i < len(liste)):\n",
    "    print(\"index : {} deger : {}\".format(i,liste[i]))\n",
    "    i+=1"
   ]
  },
  {
   "cell_type": "code",
   "execution_count": 28,
   "id": "bbfcf361",
   "metadata": {},
   "outputs": [
    {
     "name": "stdout",
     "output_type": "stream",
     "text": [
      "0 1 2 3 4 5 6 7 8 9\n"
     ]
    }
   ],
   "source": [
    "range (0,10)\n",
    "print(*range(0,10))\n"
   ]
  },
  {
   "cell_type": "code",
   "execution_count": 30,
   "id": "60372a2a",
   "metadata": {},
   "outputs": [
    {
     "name": "stdout",
     "output_type": "stream",
     "text": [
      "0 3 6 9 12 15 18 21 24 27 30 33 36 39 42 45 48\n"
     ]
    }
   ],
   "source": [
    "range (0,50)\n",
    "print(*range(0,50,3))"
   ]
  },
  {
   "cell_type": "code",
   "execution_count": 33,
   "id": "53438242",
   "metadata": {},
   "outputs": [
    {
     "name": "stdout",
     "output_type": "stream",
     "text": [
      "\n",
      "* \n",
      "* * \n",
      "* * * \n",
      "* * * * \n",
      "* * * * * \n",
      "* * * * * * \n",
      "* * * * * * * \n",
      "* * * * * * * * \n",
      "* * * * * * * * * \n"
     ]
    }
   ],
   "source": [
    "for i in range(10):\n",
    "    print(\"* \" *i)"
   ]
  },
  {
   "cell_type": "code",
   "execution_count": 34,
   "id": "7912198b",
   "metadata": {},
   "outputs": [
    {
     "name": "stdout",
     "output_type": "stream",
     "text": [
      "r\n",
      "r\n",
      "t\n",
      "1\n",
      "Cikis Yapiliyor...\n"
     ]
    }
   ],
   "source": [
    "while True:\n",
    "    isim = input(\"İsminiz(Cikmak için q tusuna basin.):\")\n",
    "    if (isim == \"q\"): # break ile tabii ki.\n",
    "        print(\"Cikis Yapiliyor...\")\n",
    "        break\n",
    "    print(isim)"
   ]
  },
  {
   "cell_type": "code",
   "execution_count": 35,
   "id": "c02b3dfd",
   "metadata": {},
   "outputs": [
    {
     "name": "stdout",
     "output_type": "stream",
     "text": [
      "i: 1\n",
      "i: 2\n",
      "i: 4\n",
      "i: 6\n",
      "i: 7\n",
      "i: 8\n",
      "i: 9\n"
     ]
    }
   ],
   "source": [
    "liste = [1,2,3,4,5,6,7,8,9] \n",
    "\n",
    "\n",
    "for i in liste:\n",
    "    if (i == 3 or i == 5):\n",
    "        continue\n",
    "    print(\"i:\",i)"
   ]
  },
  {
   "cell_type": "code",
   "execution_count": 36,
   "id": "70155c07",
   "metadata": {},
   "outputs": [
    {
     "name": "stdout",
     "output_type": "stream",
     "text": [
      "[1, 2, 3, 4, 5]\n"
     ]
    }
   ],
   "source": [
    "liste1 = [1,2,3,4,5]\n",
    "liste2 = list()\n",
    "\n",
    "for i in liste1:\n",
    "    liste2.append(i)\n",
    "print(liste2)"
   ]
  },
  {
   "cell_type": "code",
   "execution_count": 37,
   "id": "b8d0b5c7",
   "metadata": {},
   "outputs": [
    {
     "name": "stdout",
     "output_type": "stream",
     "text": [
      "[1, 2, 3, 4, 5, 6]\n"
     ]
    }
   ],
   "source": [
    "liste3 = [1,2,3,4,5,6]\n",
    "liste4 = [i for i in liste3]\n",
    "print(liste4)"
   ]
  },
  {
   "cell_type": "code",
   "execution_count": 38,
   "id": "fc329d0b",
   "metadata": {},
   "outputs": [
    {
     "name": "stdout",
     "output_type": "stream",
     "text": [
      "[15, 30, 45]\n"
     ]
    }
   ],
   "source": [
    "liste5 = [5,10,15]\n",
    "liste6 = [i*3 for i in liste5 ]\n",
    "\n",
    "print(liste6)"
   ]
  },
  {
   "cell_type": "code",
   "execution_count": 40,
   "id": "66991e33",
   "metadata": {},
   "outputs": [
    {
     "name": "stdout",
     "output_type": "stream",
     "text": [
      "[2, 12, 30]\n"
     ]
    }
   ],
   "source": [
    "liste = [(1,2),(3,4),(5,6)]\n",
    "\n",
    "liste1 = [i*j for i,j in liste]\n",
    "print(liste1)"
   ]
  },
  {
   "cell_type": "code",
   "execution_count": 41,
   "id": "3108f2af",
   "metadata": {},
   "outputs": [
    {
     "name": "stdout",
     "output_type": "stream",
     "text": [
      "['SSS', 'eee', 'zzz', 'iii', 'nnn']\n"
     ]
    }
   ],
   "source": [
    "s = \"Sezin\"\n",
    "\n",
    "liste1 = [i*3 for i in s]\n",
    "print(liste1)"
   ]
  },
  {
   "cell_type": "code",
   "execution_count": 42,
   "id": "b9b347fd",
   "metadata": {},
   "outputs": [
    {
     "name": "stdout",
     "output_type": "stream",
     "text": [
      "[1, 2, 3, 4, 5, 6, 7, 8, 9, 0]\n"
     ]
    }
   ],
   "source": [
    "liste = [(1,2,3,4),(5,6,7),(8,9,0)]\n",
    "liste1 = [x for i in liste for x in i]\n",
    "print(liste1)\n",
    "\n"
   ]
  }
 ],
 "metadata": {
  "kernelspec": {
   "display_name": "Python 3 (ipykernel)",
   "language": "python",
   "name": "python3"
  },
  "language_info": {
   "codemirror_mode": {
    "name": "ipython",
    "version": 3
   },
   "file_extension": ".py",
   "mimetype": "text/x-python",
   "name": "python",
   "nbconvert_exporter": "python",
   "pygments_lexer": "ipython3",
   "version": "3.9.13"
  }
 },
 "nbformat": 4,
 "nbformat_minor": 5
}
