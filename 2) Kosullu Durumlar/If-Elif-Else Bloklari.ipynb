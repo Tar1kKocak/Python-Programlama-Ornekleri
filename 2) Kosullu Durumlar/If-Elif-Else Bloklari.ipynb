{
 "cells": [
  {
   "cell_type": "code",
   "execution_count": 6,
   "id": "3520197a",
   "metadata": {},
   "outputs": [
    {
     "name": "stdout",
     "output_type": "stream",
     "text": [
      "Resitsiniz.\n"
     ]
    }
   ],
   "source": [
    "yas = int(input(\"Yasinizi Giriniz:\"))\n",
    "\n",
    "if (yas>=18):\n",
    "    print(\"Resitsiniz.\")\n",
    "if (yas<18):\n",
    "    print(\"Resit Degilsiniz.\")\n",
    "    "
   ]
  },
  {
   "cell_type": "code",
   "execution_count": 9,
   "id": "b983bfcc",
   "metadata": {},
   "outputs": [
    {
     "name": "stdout",
     "output_type": "stream",
     "text": [
      "Lutfen gecerli bir yas degeri giriniz.\n"
     ]
    }
   ],
   "source": [
    "yas = int(input(\"Yasinizi Giriniz:\"))\n",
    "\n",
    "if (yas>=18):\n",
    "    print(\"Resitsiniz.\")\n",
    "elif (0<yas<18):\n",
    "    print(\"Resit Degilsiniz\")\n",
    "else :\n",
    "    print(\"Lutfen gecerli bir yas degeri giriniz.\")\n",
    "\n"
   ]
  },
  {
   "cell_type": "code",
   "execution_count": null,
   "id": "b4d3b67f",
   "metadata": {},
   "outputs": [],
   "source": []
  }
 ],
 "metadata": {
  "kernelspec": {
   "display_name": "Python 3 (ipykernel)",
   "language": "python",
   "name": "python3"
  },
  "language_info": {
   "codemirror_mode": {
    "name": "ipython",
    "version": 3
   },
   "file_extension": ".py",
   "mimetype": "text/x-python",
   "name": "python",
   "nbconvert_exporter": "python",
   "pygments_lexer": "ipython3",
   "version": "3.9.13"
  }
 },
 "nbformat": 4,
 "nbformat_minor": 5
}
