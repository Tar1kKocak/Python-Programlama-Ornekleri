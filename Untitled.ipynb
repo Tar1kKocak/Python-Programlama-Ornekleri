{
 "cells": [
  {
   "cell_type": "code",
   "execution_count": 3,
   "id": "29311a93",
   "metadata": {},
   "outputs": [
    {
     "name": "stdout",
     "output_type": "stream",
     "text": [
      "tarik\n"
     ]
    }
   ],
   "source": [
    "print(\"tarik\")"
   ]
  },
  {
   "cell_type": "code",
   "execution_count": 1,
   "id": "ba4206c1",
   "metadata": {},
   "outputs": [
    {
     "name": "stdout",
     "output_type": "stream",
     "text": [
      "taris\n"
     ]
    }
   ],
   "source": [
    "print(\"taris\")\n"
   ]
  },
  {
   "cell_type": "code",
   "execution_count": 2,
   "id": "244ee39d",
   "metadata": {},
   "outputs": [
    {
     "name": "stdout",
     "output_type": "stream",
     "text": [
      "tarissss\n"
     ]
    }
   ],
   "source": [
    "print(\"tarissss\")"
   ]
  }
 ],
 "metadata": {
  "kernelspec": {
   "display_name": "Python 3.9.13 64-bit",
   "language": "python",
   "name": "python3"
  },
  "language_info": {
   "codemirror_mode": {
    "name": "ipython",
    "version": 3
   },
   "file_extension": ".py",
   "mimetype": "text/x-python",
   "name": "python",
   "nbconvert_exporter": "python",
   "pygments_lexer": "ipython3",
   "version": "3.9.13"
  },
  "vscode": {
   "interpreter": {
    "hash": "bf8705cd0d52906989a896de1793f7081996c7b38471ef79538decef7c4a308f"
   }
  }
 },
 "nbformat": 4,
 "nbformat_minor": 5
}
